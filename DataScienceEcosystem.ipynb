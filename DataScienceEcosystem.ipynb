{
 "cells": [
  {
   "cell_type": "markdown",
   "id": "de7a3795-0568-4c63-9cda-542e82e26b20",
   "metadata": {},
   "source": [
    "# Data Science Tools and Ecosystem"
   ]
  },
  {
   "cell_type": "markdown",
   "id": "b956cc09-01fc-4bdf-8b3e-088a76fc159b",
   "metadata": {},
   "source": [
    "In this notebook, Data Science Tools and Ecosystem are summarized."
   ]
  },
  {
   "cell_type": "markdown",
   "id": "a6519438-5119-404e-8d38-b7c9b42eb0b2",
   "metadata": {},
   "source": [
    "**Objectives:**\n",
    "- List popular languages for Data Science\n",
    "- List popular libraries for Data Science\n",
    "- List tools for Data Science\n",
    "- List arithmetic expression examples\n",
    "- How to use Jupyter Notebook"
   ]
  },
  {
   "cell_type": "markdown",
   "id": "e8bea644-818a-494a-8764-01d772a31499",
   "metadata": {},
   "source": [
    "Some of the popular languages that Data Scientists use are:\n",
    "1. Python\n",
    "2. R\n",
    "3. SQL"
   ]
  },
  {
   "cell_type": "markdown",
   "id": "e30b908b-b9c5-47a7-b0dd-4e7785da7d05",
   "metadata": {},
   "source": [
    "Some of the commonly used libraries used by Data Scientists include:\n",
    "1. TensorFlow\n",
    "2. Pandas\n",
    "3. NumPy"
   ]
  },
  {
   "cell_type": "markdown",
   "id": "20aef02c-73e0-4697-9985-1a71fe13377d",
   "metadata": {},
   "source": [
    "| Data Science Tools |\n",
    "| ------ |\n",
    "| Spyder |\n",
    "| JupyterLabs |\n",
    "| VS Code |"
   ]
  },
  {
   "cell_type": "markdown",
   "id": "31c6dcae-fcfc-45f6-9b43-6bdf0c06d5b5",
   "metadata": {},
   "source": [
    "### Below are a few examples of evaluating arithmetic expressions in Python"
   ]
  },
  {
   "cell_type": "markdown",
   "id": "32df7bef-8504-4f37-997e-cb277ca90aa9",
   "metadata": {},
   "source": [
    "*This a simple arithmetic expression to mutiply then add integers*"
   ]
  },
  {
   "cell_type": "code",
   "execution_count": 4,
   "id": "8c744801-6530-486a-ad2e-da702fff3bc2",
   "metadata": {},
   "outputs": [
    {
     "data": {
      "text/plain": [
       "17"
      ]
     },
     "execution_count": 4,
     "metadata": {},
     "output_type": "execute_result"
    }
   ],
   "source": [
    "(3*4)+5"
   ]
  },
  {
   "cell_type": "markdown",
   "id": "62a98471-b4ce-4690-acc0-23e9be25f94f",
   "metadata": {},
   "source": [
    "*This will convert 200 minutes to hours by diving by 60*"
   ]
  },
  {
   "cell_type": "code",
   "execution_count": 10,
   "id": "ae266a57-0078-48f4-bcac-50124811baba",
   "metadata": {},
   "outputs": [
    {
     "name": "stdin",
     "output_type": "stream",
     "text": [
      "Input time in minutes:  200\n"
     ]
    },
    {
     "name": "stdout",
     "output_type": "stream",
     "text": [
      "The hours is: 3.3333333333333335\n"
     ]
    }
   ],
   "source": [
    "minutes = float(input(\"Input time in minutes: \"))\n",
    "hours = minutes / 60\n",
    "print(\"The hours is:\", hours)"
   ]
  },
  {
   "cell_type": "code",
   "execution_count": null,
   "id": "8596d1ff-e9b0-42ff-8bca-9eeb929b46ae",
   "metadata": {},
   "outputs": [],
   "source": []
  }
 ],
 "metadata": {
  "kernelspec": {
   "display_name": "Python",
   "language": "python",
   "name": "conda-env-python-py"
  },
  "language_info": {
   "codemirror_mode": {
    "name": "ipython",
    "version": 3
   },
   "file_extension": ".py",
   "mimetype": "text/x-python",
   "name": "python",
   "nbconvert_exporter": "python",
   "pygments_lexer": "ipython3",
   "version": "3.7.12"
  }
 },
 "nbformat": 4,
 "nbformat_minor": 5
}
